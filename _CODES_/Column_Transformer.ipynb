{
  "nbformat": 4,
  "nbformat_minor": 0,
  "metadata": {
    "colab": {
      "provenance": []
    },
    "kernelspec": {
      "name": "python3",
      "display_name": "Python 3"
    },
    "language_info": {
      "name": "python"
    }
  },
  "cells": [
    {
      "cell_type": "code",
      "execution_count": 1,
      "metadata": {
        "id": "Rx9Y_U_UbPMh"
      },
      "outputs": [],
      "source": [
        "import numpy as np\n",
        "import pandas as pd\n"
      ]
    },
    {
      "cell_type": "code",
      "source": [
        "from sklearn.impute import SimpleImputer\n",
        "from sklearn.preprocessing import OneHotEncoder\n",
        "from sklearn.preprocessing import OrdinalEncoder"
      ],
      "metadata": {
        "id": "YdfqayEedr6b"
      },
      "execution_count": 2,
      "outputs": []
    },
    {
      "cell_type": "code",
      "source": [
        "df = pd.read_csv('/content/covid_toy.csv')\n"
      ],
      "metadata": {
        "id": "SUHokm0td3W3"
      },
      "execution_count": 4,
      "outputs": []
    },
    {
      "cell_type": "code",
      "source": [
        "df.head(4)\n"
      ],
      "metadata": {
        "colab": {
          "base_uri": "https://localhost:8080/",
          "height": 175
        },
        "id": "f0TUBatneE8y",
        "outputId": "12b37efb-d973-45be-a9d8-e4ad9285084b"
      },
      "execution_count": 5,
      "outputs": [
        {
          "output_type": "execute_result",
          "data": {
            "text/plain": [
              "   age  gender  fever cough     city has_covid\n",
              "0   60    Male  103.0  Mild  Kolkata        No\n",
              "1   27    Male  100.0  Mild    Delhi       Yes\n",
              "2   42    Male  101.0  Mild    Delhi        No\n",
              "3   31  Female   98.0  Mild  Kolkata        No"
            ],
            "text/html": [
              "\n",
              "  <div id=\"df-e3b90512-27d1-4725-8b70-ee31f997d881\">\n",
              "    <div class=\"colab-df-container\">\n",
              "      <div>\n",
              "<style scoped>\n",
              "    .dataframe tbody tr th:only-of-type {\n",
              "        vertical-align: middle;\n",
              "    }\n",
              "\n",
              "    .dataframe tbody tr th {\n",
              "        vertical-align: top;\n",
              "    }\n",
              "\n",
              "    .dataframe thead th {\n",
              "        text-align: right;\n",
              "    }\n",
              "</style>\n",
              "<table border=\"1\" class=\"dataframe\">\n",
              "  <thead>\n",
              "    <tr style=\"text-align: right;\">\n",
              "      <th></th>\n",
              "      <th>age</th>\n",
              "      <th>gender</th>\n",
              "      <th>fever</th>\n",
              "      <th>cough</th>\n",
              "      <th>city</th>\n",
              "      <th>has_covid</th>\n",
              "    </tr>\n",
              "  </thead>\n",
              "  <tbody>\n",
              "    <tr>\n",
              "      <th>0</th>\n",
              "      <td>60</td>\n",
              "      <td>Male</td>\n",
              "      <td>103.0</td>\n",
              "      <td>Mild</td>\n",
              "      <td>Kolkata</td>\n",
              "      <td>No</td>\n",
              "    </tr>\n",
              "    <tr>\n",
              "      <th>1</th>\n",
              "      <td>27</td>\n",
              "      <td>Male</td>\n",
              "      <td>100.0</td>\n",
              "      <td>Mild</td>\n",
              "      <td>Delhi</td>\n",
              "      <td>Yes</td>\n",
              "    </tr>\n",
              "    <tr>\n",
              "      <th>2</th>\n",
              "      <td>42</td>\n",
              "      <td>Male</td>\n",
              "      <td>101.0</td>\n",
              "      <td>Mild</td>\n",
              "      <td>Delhi</td>\n",
              "      <td>No</td>\n",
              "    </tr>\n",
              "    <tr>\n",
              "      <th>3</th>\n",
              "      <td>31</td>\n",
              "      <td>Female</td>\n",
              "      <td>98.0</td>\n",
              "      <td>Mild</td>\n",
              "      <td>Kolkata</td>\n",
              "      <td>No</td>\n",
              "    </tr>\n",
              "  </tbody>\n",
              "</table>\n",
              "</div>\n",
              "      <button class=\"colab-df-convert\" onclick=\"convertToInteractive('df-e3b90512-27d1-4725-8b70-ee31f997d881')\"\n",
              "              title=\"Convert this dataframe to an interactive table.\"\n",
              "              style=\"display:none;\">\n",
              "        \n",
              "  <svg xmlns=\"http://www.w3.org/2000/svg\" height=\"24px\"viewBox=\"0 0 24 24\"\n",
              "       width=\"24px\">\n",
              "    <path d=\"M0 0h24v24H0V0z\" fill=\"none\"/>\n",
              "    <path d=\"M18.56 5.44l.94 2.06.94-2.06 2.06-.94-2.06-.94-.94-2.06-.94 2.06-2.06.94zm-11 1L8.5 8.5l.94-2.06 2.06-.94-2.06-.94L8.5 2.5l-.94 2.06-2.06.94zm10 10l.94 2.06.94-2.06 2.06-.94-2.06-.94-.94-2.06-.94 2.06-2.06.94z\"/><path d=\"M17.41 7.96l-1.37-1.37c-.4-.4-.92-.59-1.43-.59-.52 0-1.04.2-1.43.59L10.3 9.45l-7.72 7.72c-.78.78-.78 2.05 0 2.83L4 21.41c.39.39.9.59 1.41.59.51 0 1.02-.2 1.41-.59l7.78-7.78 2.81-2.81c.8-.78.8-2.07 0-2.86zM5.41 20L4 18.59l7.72-7.72 1.47 1.35L5.41 20z\"/>\n",
              "  </svg>\n",
              "      </button>\n",
              "      \n",
              "  <style>\n",
              "    .colab-df-container {\n",
              "      display:flex;\n",
              "      flex-wrap:wrap;\n",
              "      gap: 12px;\n",
              "    }\n",
              "\n",
              "    .colab-df-convert {\n",
              "      background-color: #E8F0FE;\n",
              "      border: none;\n",
              "      border-radius: 50%;\n",
              "      cursor: pointer;\n",
              "      display: none;\n",
              "      fill: #1967D2;\n",
              "      height: 32px;\n",
              "      padding: 0 0 0 0;\n",
              "      width: 32px;\n",
              "    }\n",
              "\n",
              "    .colab-df-convert:hover {\n",
              "      background-color: #E2EBFA;\n",
              "      box-shadow: 0px 1px 2px rgba(60, 64, 67, 0.3), 0px 1px 3px 1px rgba(60, 64, 67, 0.15);\n",
              "      fill: #174EA6;\n",
              "    }\n",
              "\n",
              "    [theme=dark] .colab-df-convert {\n",
              "      background-color: #3B4455;\n",
              "      fill: #D2E3FC;\n",
              "    }\n",
              "\n",
              "    [theme=dark] .colab-df-convert:hover {\n",
              "      background-color: #434B5C;\n",
              "      box-shadow: 0px 1px 3px 1px rgba(0, 0, 0, 0.15);\n",
              "      filter: drop-shadow(0px 1px 2px rgba(0, 0, 0, 0.3));\n",
              "      fill: #FFFFFF;\n",
              "    }\n",
              "  </style>\n",
              "\n",
              "      <script>\n",
              "        const buttonEl =\n",
              "          document.querySelector('#df-e3b90512-27d1-4725-8b70-ee31f997d881 button.colab-df-convert');\n",
              "        buttonEl.style.display =\n",
              "          google.colab.kernel.accessAllowed ? 'block' : 'none';\n",
              "\n",
              "        async function convertToInteractive(key) {\n",
              "          const element = document.querySelector('#df-e3b90512-27d1-4725-8b70-ee31f997d881');\n",
              "          const dataTable =\n",
              "            await google.colab.kernel.invokeFunction('convertToInteractive',\n",
              "                                                     [key], {});\n",
              "          if (!dataTable) return;\n",
              "\n",
              "          const docLinkHtml = 'Like what you see? Visit the ' +\n",
              "            '<a target=\"_blank\" href=https://colab.research.google.com/notebooks/data_table.ipynb>data table notebook</a>'\n",
              "            + ' to learn more about interactive tables.';\n",
              "          element.innerHTML = '';\n",
              "          dataTable['output_type'] = 'display_data';\n",
              "          await google.colab.output.renderOutput(dataTable, element);\n",
              "          const docLink = document.createElement('div');\n",
              "          docLink.innerHTML = docLinkHtml;\n",
              "          element.appendChild(docLink);\n",
              "        }\n",
              "      </script>\n",
              "    </div>\n",
              "  </div>\n",
              "  "
            ]
          },
          "metadata": {},
          "execution_count": 5
        }
      ]
    },
    {
      "cell_type": "code",
      "source": [
        "df['cough'].value_counts()"
      ],
      "metadata": {
        "colab": {
          "base_uri": "https://localhost:8080/"
        },
        "id": "0Ta0jlMceZYn",
        "outputId": "79d80314-c25c-442e-8d49-0618ec47705d"
      },
      "execution_count": 7,
      "outputs": [
        {
          "output_type": "execute_result",
          "data": {
            "text/plain": [
              "Mild      62\n",
              "Strong    38\n",
              "Name: cough, dtype: int64"
            ]
          },
          "metadata": {},
          "execution_count": 7
        }
      ]
    },
    {
      "cell_type": "code",
      "source": [
        "df['city'].value_counts()"
      ],
      "metadata": {
        "colab": {
          "base_uri": "https://localhost:8080/"
        },
        "id": "fQMNKvs3gO8U",
        "outputId": "b7c635cc-d5c2-4ee3-e28f-fd8886d5e2a6"
      },
      "execution_count": 8,
      "outputs": [
        {
          "output_type": "execute_result",
          "data": {
            "text/plain": [
              "Kolkata      32\n",
              "Bangalore    30\n",
              "Delhi        22\n",
              "Mumbai       16\n",
              "Name: city, dtype: int64"
            ]
          },
          "metadata": {},
          "execution_count": 8
        }
      ]
    },
    {
      "cell_type": "code",
      "source": [
        "df.isnull().sum()"
      ],
      "metadata": {
        "colab": {
          "base_uri": "https://localhost:8080/"
        },
        "id": "Yf-BRctBhh46",
        "outputId": "4f80fefd-236d-4a2d-cfaf-36fd4d953e1a"
      },
      "execution_count": 9,
      "outputs": [
        {
          "output_type": "execute_result",
          "data": {
            "text/plain": [
              "age           0\n",
              "gender        0\n",
              "fever        10\n",
              "cough         0\n",
              "city          0\n",
              "has_covid     0\n",
              "dtype: int64"
            ]
          },
          "metadata": {},
          "execution_count": 9
        }
      ]
    },
    {
      "cell_type": "code",
      "source": [
        "from sklearn.model_selection import train_test_split\n",
        "X_train,X_test,y_train,y_test = train_test_split(df.drop(columns=['has_covid']),df['has_covid'],\n",
        "                                                test_size=0.2)"
      ],
      "metadata": {
        "id": "VYSTFfvOj6zE"
      },
      "execution_count": 10,
      "outputs": []
    },
    {
      "cell_type": "code",
      "source": [
        "X_train"
      ],
      "metadata": {
        "colab": {
          "base_uri": "https://localhost:8080/",
          "height": 424
        },
        "id": "NHYV86LGj_wa",
        "outputId": "5affb756-95ff-40be-9903-a098a3964216"
      },
      "execution_count": 11,
      "outputs": [
        {
          "output_type": "execute_result",
          "data": {
            "text/plain": [
              "    age  gender  fever   cough       city\n",
              "33   26  Female   98.0    Mild    Kolkata\n",
              "18   64  Female   98.0    Mild  Bangalore\n",
              "97   20  Female  101.0    Mild  Bangalore\n",
              "56   71    Male    NaN  Strong    Kolkata\n",
              "65   69  Female  102.0    Mild  Bangalore\n",
              "..  ...     ...    ...     ...        ...\n",
              "71   75  Female  104.0  Strong      Delhi\n",
              "52   47  Female  100.0  Strong  Bangalore\n",
              "98    5  Female   98.0  Strong     Mumbai\n",
              "47   18  Female  104.0    Mild  Bangalore\n",
              "63   10    Male  100.0    Mild  Bangalore\n",
              "\n",
              "[80 rows x 5 columns]"
            ],
            "text/html": [
              "\n",
              "  <div id=\"df-a37f8ba3-6ed4-41a0-856a-99d9e025f286\">\n",
              "    <div class=\"colab-df-container\">\n",
              "      <div>\n",
              "<style scoped>\n",
              "    .dataframe tbody tr th:only-of-type {\n",
              "        vertical-align: middle;\n",
              "    }\n",
              "\n",
              "    .dataframe tbody tr th {\n",
              "        vertical-align: top;\n",
              "    }\n",
              "\n",
              "    .dataframe thead th {\n",
              "        text-align: right;\n",
              "    }\n",
              "</style>\n",
              "<table border=\"1\" class=\"dataframe\">\n",
              "  <thead>\n",
              "    <tr style=\"text-align: right;\">\n",
              "      <th></th>\n",
              "      <th>age</th>\n",
              "      <th>gender</th>\n",
              "      <th>fever</th>\n",
              "      <th>cough</th>\n",
              "      <th>city</th>\n",
              "    </tr>\n",
              "  </thead>\n",
              "  <tbody>\n",
              "    <tr>\n",
              "      <th>33</th>\n",
              "      <td>26</td>\n",
              "      <td>Female</td>\n",
              "      <td>98.0</td>\n",
              "      <td>Mild</td>\n",
              "      <td>Kolkata</td>\n",
              "    </tr>\n",
              "    <tr>\n",
              "      <th>18</th>\n",
              "      <td>64</td>\n",
              "      <td>Female</td>\n",
              "      <td>98.0</td>\n",
              "      <td>Mild</td>\n",
              "      <td>Bangalore</td>\n",
              "    </tr>\n",
              "    <tr>\n",
              "      <th>97</th>\n",
              "      <td>20</td>\n",
              "      <td>Female</td>\n",
              "      <td>101.0</td>\n",
              "      <td>Mild</td>\n",
              "      <td>Bangalore</td>\n",
              "    </tr>\n",
              "    <tr>\n",
              "      <th>56</th>\n",
              "      <td>71</td>\n",
              "      <td>Male</td>\n",
              "      <td>NaN</td>\n",
              "      <td>Strong</td>\n",
              "      <td>Kolkata</td>\n",
              "    </tr>\n",
              "    <tr>\n",
              "      <th>65</th>\n",
              "      <td>69</td>\n",
              "      <td>Female</td>\n",
              "      <td>102.0</td>\n",
              "      <td>Mild</td>\n",
              "      <td>Bangalore</td>\n",
              "    </tr>\n",
              "    <tr>\n",
              "      <th>...</th>\n",
              "      <td>...</td>\n",
              "      <td>...</td>\n",
              "      <td>...</td>\n",
              "      <td>...</td>\n",
              "      <td>...</td>\n",
              "    </tr>\n",
              "    <tr>\n",
              "      <th>71</th>\n",
              "      <td>75</td>\n",
              "      <td>Female</td>\n",
              "      <td>104.0</td>\n",
              "      <td>Strong</td>\n",
              "      <td>Delhi</td>\n",
              "    </tr>\n",
              "    <tr>\n",
              "      <th>52</th>\n",
              "      <td>47</td>\n",
              "      <td>Female</td>\n",
              "      <td>100.0</td>\n",
              "      <td>Strong</td>\n",
              "      <td>Bangalore</td>\n",
              "    </tr>\n",
              "    <tr>\n",
              "      <th>98</th>\n",
              "      <td>5</td>\n",
              "      <td>Female</td>\n",
              "      <td>98.0</td>\n",
              "      <td>Strong</td>\n",
              "      <td>Mumbai</td>\n",
              "    </tr>\n",
              "    <tr>\n",
              "      <th>47</th>\n",
              "      <td>18</td>\n",
              "      <td>Female</td>\n",
              "      <td>104.0</td>\n",
              "      <td>Mild</td>\n",
              "      <td>Bangalore</td>\n",
              "    </tr>\n",
              "    <tr>\n",
              "      <th>63</th>\n",
              "      <td>10</td>\n",
              "      <td>Male</td>\n",
              "      <td>100.0</td>\n",
              "      <td>Mild</td>\n",
              "      <td>Bangalore</td>\n",
              "    </tr>\n",
              "  </tbody>\n",
              "</table>\n",
              "<p>80 rows × 5 columns</p>\n",
              "</div>\n",
              "      <button class=\"colab-df-convert\" onclick=\"convertToInteractive('df-a37f8ba3-6ed4-41a0-856a-99d9e025f286')\"\n",
              "              title=\"Convert this dataframe to an interactive table.\"\n",
              "              style=\"display:none;\">\n",
              "        \n",
              "  <svg xmlns=\"http://www.w3.org/2000/svg\" height=\"24px\"viewBox=\"0 0 24 24\"\n",
              "       width=\"24px\">\n",
              "    <path d=\"M0 0h24v24H0V0z\" fill=\"none\"/>\n",
              "    <path d=\"M18.56 5.44l.94 2.06.94-2.06 2.06-.94-2.06-.94-.94-2.06-.94 2.06-2.06.94zm-11 1L8.5 8.5l.94-2.06 2.06-.94-2.06-.94L8.5 2.5l-.94 2.06-2.06.94zm10 10l.94 2.06.94-2.06 2.06-.94-2.06-.94-.94-2.06-.94 2.06-2.06.94z\"/><path d=\"M17.41 7.96l-1.37-1.37c-.4-.4-.92-.59-1.43-.59-.52 0-1.04.2-1.43.59L10.3 9.45l-7.72 7.72c-.78.78-.78 2.05 0 2.83L4 21.41c.39.39.9.59 1.41.59.51 0 1.02-.2 1.41-.59l7.78-7.78 2.81-2.81c.8-.78.8-2.07 0-2.86zM5.41 20L4 18.59l7.72-7.72 1.47 1.35L5.41 20z\"/>\n",
              "  </svg>\n",
              "      </button>\n",
              "      \n",
              "  <style>\n",
              "    .colab-df-container {\n",
              "      display:flex;\n",
              "      flex-wrap:wrap;\n",
              "      gap: 12px;\n",
              "    }\n",
              "\n",
              "    .colab-df-convert {\n",
              "      background-color: #E8F0FE;\n",
              "      border: none;\n",
              "      border-radius: 50%;\n",
              "      cursor: pointer;\n",
              "      display: none;\n",
              "      fill: #1967D2;\n",
              "      height: 32px;\n",
              "      padding: 0 0 0 0;\n",
              "      width: 32px;\n",
              "    }\n",
              "\n",
              "    .colab-df-convert:hover {\n",
              "      background-color: #E2EBFA;\n",
              "      box-shadow: 0px 1px 2px rgba(60, 64, 67, 0.3), 0px 1px 3px 1px rgba(60, 64, 67, 0.15);\n",
              "      fill: #174EA6;\n",
              "    }\n",
              "\n",
              "    [theme=dark] .colab-df-convert {\n",
              "      background-color: #3B4455;\n",
              "      fill: #D2E3FC;\n",
              "    }\n",
              "\n",
              "    [theme=dark] .colab-df-convert:hover {\n",
              "      background-color: #434B5C;\n",
              "      box-shadow: 0px 1px 3px 1px rgba(0, 0, 0, 0.15);\n",
              "      filter: drop-shadow(0px 1px 2px rgba(0, 0, 0, 0.3));\n",
              "      fill: #FFFFFF;\n",
              "    }\n",
              "  </style>\n",
              "\n",
              "      <script>\n",
              "        const buttonEl =\n",
              "          document.querySelector('#df-a37f8ba3-6ed4-41a0-856a-99d9e025f286 button.colab-df-convert');\n",
              "        buttonEl.style.display =\n",
              "          google.colab.kernel.accessAllowed ? 'block' : 'none';\n",
              "\n",
              "        async function convertToInteractive(key) {\n",
              "          const element = document.querySelector('#df-a37f8ba3-6ed4-41a0-856a-99d9e025f286');\n",
              "          const dataTable =\n",
              "            await google.colab.kernel.invokeFunction('convertToInteractive',\n",
              "                                                     [key], {});\n",
              "          if (!dataTable) return;\n",
              "\n",
              "          const docLinkHtml = 'Like what you see? Visit the ' +\n",
              "            '<a target=\"_blank\" href=https://colab.research.google.com/notebooks/data_table.ipynb>data table notebook</a>'\n",
              "            + ' to learn more about interactive tables.';\n",
              "          element.innerHTML = '';\n",
              "          dataTable['output_type'] = 'display_data';\n",
              "          await google.colab.output.renderOutput(dataTable, element);\n",
              "          const docLink = document.createElement('div');\n",
              "          docLink.innerHTML = docLinkHtml;\n",
              "          element.appendChild(docLink);\n",
              "        }\n",
              "      </script>\n",
              "    </div>\n",
              "  </div>\n",
              "  "
            ]
          },
          "metadata": {},
          "execution_count": 11
        }
      ]
    },
    {
      "cell_type": "code",
      "source": [
        "si = SimpleImputer()\n",
        "X_train_fever = si.fit_transform(X_train[['fever']])\n",
        "X_test_fever = si.fit_transform(X_test[['fever']])\n",
        ""
      ],
      "metadata": {
        "id": "lkEwaxl3nS70"
      },
      "execution_count": 12,
      "outputs": []
    },
    {
      "cell_type": "code",
      "source": [
        "X_train_fever"
      ],
      "metadata": {
        "colab": {
          "base_uri": "https://localhost:8080/"
        },
        "id": "1WkKstbYnZZ9",
        "outputId": "db7a834f-7b7f-453f-daaf-b3d8c7f823ee"
      },
      "execution_count": 13,
      "outputs": [
        {
          "output_type": "execute_result",
          "data": {
            "text/plain": [
              "array([[ 98.        ],\n",
              "       [ 98.        ],\n",
              "       [101.        ],\n",
              "       [100.89041096],\n",
              "       [102.        ],\n",
              "       [104.        ],\n",
              "       [104.        ],\n",
              "       [104.        ],\n",
              "       [ 99.        ],\n",
              "       [101.        ],\n",
              "       [100.        ],\n",
              "       [ 99.        ],\n",
              "       [100.89041096],\n",
              "       [101.        ],\n",
              "       [101.        ],\n",
              "       [ 99.        ],\n",
              "       [ 99.        ],\n",
              "       [102.        ],\n",
              "       [103.        ],\n",
              "       [104.        ],\n",
              "       [102.        ],\n",
              "       [100.        ],\n",
              "       [100.        ],\n",
              "       [100.        ],\n",
              "       [ 98.        ],\n",
              "       [101.        ],\n",
              "       [102.        ],\n",
              "       [100.        ],\n",
              "       [102.        ],\n",
              "       [ 98.        ],\n",
              "       [ 98.        ],\n",
              "       [102.        ],\n",
              "       [102.        ],\n",
              "       [100.89041096],\n",
              "       [101.        ],\n",
              "       [103.        ],\n",
              "       [ 98.        ],\n",
              "       [103.        ],\n",
              "       [104.        ],\n",
              "       [ 98.        ],\n",
              "       [ 98.        ],\n",
              "       [104.        ],\n",
              "       [100.        ],\n",
              "       [101.        ],\n",
              "       [101.        ],\n",
              "       [101.        ],\n",
              "       [100.        ],\n",
              "       [100.        ],\n",
              "       [103.        ],\n",
              "       [ 98.        ],\n",
              "       [100.89041096],\n",
              "       [104.        ],\n",
              "       [104.        ],\n",
              "       [ 99.        ],\n",
              "       [100.89041096],\n",
              "       [104.        ],\n",
              "       [103.        ],\n",
              "       [101.        ],\n",
              "       [101.        ],\n",
              "       [ 98.        ],\n",
              "       [ 99.        ],\n",
              "       [103.        ],\n",
              "       [100.89041096],\n",
              "       [ 98.        ],\n",
              "       [101.        ],\n",
              "       [100.89041096],\n",
              "       [103.        ],\n",
              "       [ 99.        ],\n",
              "       [101.        ],\n",
              "       [100.        ],\n",
              "       [ 98.        ],\n",
              "       [ 98.        ],\n",
              "       [101.        ],\n",
              "       [104.        ],\n",
              "       [103.        ],\n",
              "       [104.        ],\n",
              "       [100.        ],\n",
              "       [ 98.        ],\n",
              "       [104.        ],\n",
              "       [100.        ]])"
            ]
          },
          "metadata": {},
          "execution_count": 13
        }
      ]
    },
    {
      "cell_type": "code",
      "source": [
        "# Ordinalencoding -> cough\n",
        "oe = OrdinalEncoder(categories=[['Mild','Strong']])\n",
        "X_train_cough = oe.fit_transform(X_train[['cough']])\n",
        "X_test_cough = oe.fit_transform(X_test[['cough']])"
      ],
      "metadata": {
        "id": "BMYJ7I-dnzby"
      },
      "execution_count": 14,
      "outputs": []
    },
    {
      "cell_type": "code",
      "source": [
        "X_test_cough"
      ],
      "metadata": {
        "colab": {
          "base_uri": "https://localhost:8080/"
        },
        "id": "9SirtHE_obcF",
        "outputId": "d58451e5-8603-4f89-cb7a-c86e1ca93809"
      },
      "execution_count": 15,
      "outputs": [
        {
          "output_type": "execute_result",
          "data": {
            "text/plain": [
              "array([[0.],\n",
              "       [1.],\n",
              "       [1.],\n",
              "       [1.],\n",
              "       [1.],\n",
              "       [1.],\n",
              "       [1.],\n",
              "       [0.],\n",
              "       [1.],\n",
              "       [0.],\n",
              "       [1.],\n",
              "       [1.],\n",
              "       [1.],\n",
              "       [1.],\n",
              "       [1.],\n",
              "       [0.],\n",
              "       [0.],\n",
              "       [0.],\n",
              "       [0.],\n",
              "       [1.]])"
            ]
          },
          "metadata": {},
          "execution_count": 15
        }
      ]
    },
    {
      "cell_type": "code",
      "source": [
        "ohe = OneHotEncoder(drop='first',sparse=False)\n",
        "X_train_gender_city = ohe.fit_transform(X_train[['gender','city']])\n",
        "X_test_gender_city = ohe.fit_transform(X_test[['gender','city']])"
      ],
      "metadata": {
        "colab": {
          "base_uri": "https://localhost:8080/"
        },
        "id": "2qaVeN8BpkVS",
        "outputId": "38d37a85-27eb-4e4b-867f-10d7b8e6861a"
      },
      "execution_count": 16,
      "outputs": [
        {
          "output_type": "stream",
          "name": "stderr",
          "text": [
            "/usr/local/lib/python3.10/dist-packages/sklearn/preprocessing/_encoders.py:868: FutureWarning: `sparse` was renamed to `sparse_output` in version 1.2 and will be removed in 1.4. `sparse_output` is ignored unless you leave `sparse` to its default value.\n",
            "  warnings.warn(\n",
            "/usr/local/lib/python3.10/dist-packages/sklearn/preprocessing/_encoders.py:868: FutureWarning: `sparse` was renamed to `sparse_output` in version 1.2 and will be removed in 1.4. `sparse_output` is ignored unless you leave `sparse` to its default value.\n",
            "  warnings.warn(\n"
          ]
        }
      ]
    },
    {
      "cell_type": "code",
      "source": [
        "X_train_age = X_train.drop(columns=['gender','fever','cough','city']).values\n",
        "X_test_age = X_test.drop(columns=['gender','fever','cough','city']).values\n",
        "X_train_age.shape"
      ],
      "metadata": {
        "colab": {
          "base_uri": "https://localhost:8080/"
        },
        "id": "1NesVRSipz6y",
        "outputId": "617405df-75ae-49a5-ef8a-9c84f7d0f8f0"
      },
      "execution_count": 17,
      "outputs": [
        {
          "output_type": "execute_result",
          "data": {
            "text/plain": [
              "(80, 1)"
            ]
          },
          "metadata": {},
          "execution_count": 17
        }
      ]
    },
    {
      "cell_type": "code",
      "source": [
        "X_train_transformed = np.concatenate((X_train_age,X_train_fever,X_train_gender_city,X_train_cough),axis=1)\n",
        "X_test_transformed = np.concatenate((X_test_age,X_test_fever,X_test_gender_city,X_test_cough),axis=1)\n",
        "X_train_transformed.shape"
      ],
      "metadata": {
        "colab": {
          "base_uri": "https://localhost:8080/"
        },
        "id": "7C6yda4tp566",
        "outputId": "565c0e67-f040-4d22-ad66-8526cde24a51"
      },
      "execution_count": 18,
      "outputs": [
        {
          "output_type": "execute_result",
          "data": {
            "text/plain": [
              "(80, 7)"
            ]
          },
          "metadata": {},
          "execution_count": 18
        }
      ]
    },
    {
      "cell_type": "code",
      "source": [
        "X_train_transformed"
      ],
      "metadata": {
        "colab": {
          "base_uri": "https://localhost:8080/"
        },
        "id": "pzBZVXjsp_q4",
        "outputId": "e188eda5-b0c1-462a-9114-7ba80f0fb385"
      },
      "execution_count": 19,
      "outputs": [
        {
          "output_type": "execute_result",
          "data": {
            "text/plain": [
              "array([[ 26.        ,  98.        ,   0.        ,   0.        ,\n",
              "          1.        ,   0.        ,   0.        ],\n",
              "       [ 64.        ,  98.        ,   0.        ,   0.        ,\n",
              "          0.        ,   0.        ,   0.        ],\n",
              "       [ 20.        , 101.        ,   0.        ,   0.        ,\n",
              "          0.        ,   0.        ,   0.        ],\n",
              "       [ 71.        , 100.89041096,   1.        ,   0.        ,\n",
              "          1.        ,   0.        ,   1.        ],\n",
              "       [ 69.        , 102.        ,   0.        ,   0.        ,\n",
              "          0.        ,   0.        ,   0.        ],\n",
              "       [ 51.        , 104.        ,   1.        ,   0.        ,\n",
              "          0.        ,   0.        ,   0.        ],\n",
              "       [ 17.        , 104.        ,   0.        ,   0.        ,\n",
              "          1.        ,   0.        ,   0.        ],\n",
              "       [ 12.        , 104.        ,   0.        ,   0.        ,\n",
              "          0.        ,   0.        ,   0.        ],\n",
              "       [ 65.        ,  99.        ,   1.        ,   1.        ,\n",
              "          0.        ,   0.        ,   0.        ],\n",
              "       [ 81.        , 101.        ,   0.        ,   0.        ,\n",
              "          0.        ,   1.        ,   0.        ],\n",
              "       [ 13.        , 100.        ,   0.        ,   0.        ,\n",
              "          1.        ,   0.        ,   1.        ],\n",
              "       [ 60.        ,  99.        ,   0.        ,   0.        ,\n",
              "          0.        ,   1.        ,   0.        ],\n",
              "       [ 42.        , 100.89041096,   0.        ,   0.        ,\n",
              "          0.        ,   0.        ,   1.        ],\n",
              "       [ 42.        , 101.        ,   1.        ,   1.        ,\n",
              "          0.        ,   0.        ,   0.        ],\n",
              "       [ 14.        , 101.        ,   1.        ,   0.        ,\n",
              "          0.        ,   0.        ,   1.        ],\n",
              "       [ 72.        ,  99.        ,   1.        ,   0.        ,\n",
              "          0.        ,   0.        ,   0.        ],\n",
              "       [ 14.        ,  99.        ,   0.        ,   0.        ,\n",
              "          0.        ,   1.        ,   0.        ],\n",
              "       [ 33.        , 102.        ,   0.        ,   1.        ,\n",
              "          0.        ,   0.        ,   1.        ],\n",
              "       [ 83.        , 103.        ,   1.        ,   0.        ,\n",
              "          1.        ,   0.        ,   0.        ],\n",
              "       [ 25.        , 104.        ,   1.        ,   0.        ,\n",
              "          0.        ,   0.        ,   0.        ],\n",
              "       [ 24.        , 102.        ,   0.        ,   0.        ,\n",
              "          0.        ,   0.        ,   1.        ],\n",
              "       [ 27.        , 100.        ,   1.        ,   1.        ,\n",
              "          0.        ,   0.        ,   0.        ],\n",
              "       [  5.        , 100.        ,   0.        ,   0.        ,\n",
              "          1.        ,   0.        ,   0.        ],\n",
              "       [ 19.        , 100.        ,   0.        ,   0.        ,\n",
              "          0.        ,   0.        ,   1.        ],\n",
              "       [ 24.        ,  98.        ,   1.        ,   0.        ,\n",
              "          1.        ,   0.        ,   0.        ],\n",
              "       [  8.        , 101.        ,   0.        ,   0.        ,\n",
              "          1.        ,   0.        ,   0.        ],\n",
              "       [ 64.        , 102.        ,   1.        ,   0.        ,\n",
              "          0.        ,   0.        ,   0.        ],\n",
              "       [ 11.        , 100.        ,   1.        ,   0.        ,\n",
              "          0.        ,   0.        ,   0.        ],\n",
              "       [ 49.        , 102.        ,   0.        ,   1.        ,\n",
              "          0.        ,   0.        ,   0.        ],\n",
              "       [ 10.        ,  98.        ,   0.        ,   0.        ,\n",
              "          1.        ,   0.        ,   1.        ],\n",
              "       [ 81.        ,  98.        ,   0.        ,   0.        ,\n",
              "          0.        ,   1.        ,   1.        ],\n",
              "       [ 74.        , 102.        ,   1.        ,   0.        ,\n",
              "          0.        ,   1.        ,   0.        ],\n",
              "       [ 82.        , 102.        ,   0.        ,   0.        ,\n",
              "          0.        ,   0.        ,   1.        ],\n",
              "       [ 84.        , 100.89041096,   0.        ,   0.        ,\n",
              "          0.        ,   0.        ,   0.        ],\n",
              "       [ 15.        , 101.        ,   1.        ,   1.        ,\n",
              "          0.        ,   0.        ,   0.        ],\n",
              "       [ 70.        , 103.        ,   1.        ,   0.        ,\n",
              "          1.        ,   0.        ,   1.        ],\n",
              "       [ 83.        ,  98.        ,   1.        ,   1.        ,\n",
              "          0.        ,   0.        ,   0.        ],\n",
              "       [ 48.        , 103.        ,   0.        ,   0.        ,\n",
              "          1.        ,   0.        ,   0.        ],\n",
              "       [ 51.        , 104.        ,   1.        ,   0.        ,\n",
              "          1.        ,   0.        ,   0.        ],\n",
              "       [ 12.        ,  98.        ,   1.        ,   0.        ,\n",
              "          0.        ,   0.        ,   1.        ],\n",
              "       [ 71.        ,  98.        ,   0.        ,   0.        ,\n",
              "          1.        ,   0.        ,   1.        ],\n",
              "       [ 54.        , 104.        ,   0.        ,   0.        ,\n",
              "          1.        ,   0.        ,   1.        ],\n",
              "       [ 27.        , 100.        ,   1.        ,   0.        ,\n",
              "          1.        ,   0.        ,   0.        ],\n",
              "       [ 64.        , 101.        ,   0.        ,   1.        ,\n",
              "          0.        ,   0.        ,   0.        ],\n",
              "       [ 19.        , 101.        ,   1.        ,   1.        ,\n",
              "          0.        ,   0.        ,   0.        ],\n",
              "       [ 19.        , 101.        ,   0.        ,   0.        ,\n",
              "          0.        ,   1.        ,   0.        ],\n",
              "       [ 19.        , 100.        ,   0.        ,   0.        ,\n",
              "          1.        ,   0.        ,   0.        ],\n",
              "       [ 27.        , 100.        ,   1.        ,   1.        ,\n",
              "          0.        ,   0.        ,   0.        ],\n",
              "       [ 16.        , 103.        ,   0.        ,   0.        ,\n",
              "          0.        ,   0.        ,   0.        ],\n",
              "       [ 80.        ,  98.        ,   0.        ,   1.        ,\n",
              "          0.        ,   0.        ,   0.        ],\n",
              "       [ 34.        , 100.89041096,   0.        ,   0.        ,\n",
              "          0.        ,   1.        ,   1.        ],\n",
              "       [ 42.        , 104.        ,   1.        ,   0.        ,\n",
              "          0.        ,   1.        ,   0.        ],\n",
              "       [  6.        , 104.        ,   0.        ,   0.        ,\n",
              "          1.        ,   0.        ,   0.        ],\n",
              "       [ 22.        ,  99.        ,   0.        ,   0.        ,\n",
              "          0.        ,   0.        ,   0.        ],\n",
              "       [ 75.        , 100.89041096,   0.        ,   1.        ,\n",
              "          0.        ,   0.        ,   0.        ],\n",
              "       [ 16.        , 104.        ,   1.        ,   0.        ,\n",
              "          1.        ,   0.        ,   0.        ],\n",
              "       [ 69.        , 103.        ,   0.        ,   0.        ,\n",
              "          1.        ,   0.        ,   0.        ],\n",
              "       [ 38.        , 101.        ,   0.        ,   0.        ,\n",
              "          0.        ,   0.        ,   0.        ],\n",
              "       [ 68.        , 101.        ,   0.        ,   1.        ,\n",
              "          0.        ,   0.        ,   1.        ],\n",
              "       [ 40.        ,  98.        ,   0.        ,   1.        ,\n",
              "          0.        ,   0.        ,   1.        ],\n",
              "       [ 49.        ,  99.        ,   0.        ,   0.        ,\n",
              "          0.        ,   0.        ,   1.        ],\n",
              "       [ 73.        , 103.        ,   0.        ,   1.        ,\n",
              "          0.        ,   0.        ,   0.        ],\n",
              "       [ 23.        , 100.89041096,   1.        ,   0.        ,\n",
              "          0.        ,   1.        ,   0.        ],\n",
              "       [ 65.        ,  98.        ,   0.        ,   0.        ,\n",
              "          0.        ,   1.        ,   0.        ],\n",
              "       [ 83.        , 101.        ,   0.        ,   0.        ,\n",
              "          1.        ,   0.        ,   0.        ],\n",
              "       [ 38.        , 100.89041096,   1.        ,   1.        ,\n",
              "          0.        ,   0.        ,   0.        ],\n",
              "       [ 60.        , 103.        ,   1.        ,   0.        ,\n",
              "          1.        ,   0.        ,   0.        ],\n",
              "       [ 25.        ,  99.        ,   0.        ,   0.        ,\n",
              "          1.        ,   0.        ,   1.        ],\n",
              "       [ 34.        , 101.        ,   0.        ,   1.        ,\n",
              "          0.        ,   0.        ,   1.        ],\n",
              "       [ 80.        , 100.        ,   1.        ,   0.        ,\n",
              "          0.        ,   0.        ,   0.        ],\n",
              "       [ 23.        ,  98.        ,   1.        ,   0.        ,\n",
              "          0.        ,   1.        ,   1.        ],\n",
              "       [ 73.        ,  98.        ,   1.        ,   0.        ,\n",
              "          0.        ,   0.        ,   0.        ],\n",
              "       [ 49.        , 101.        ,   0.        ,   1.        ,\n",
              "          0.        ,   0.        ,   0.        ],\n",
              "       [ 56.        , 104.        ,   0.        ,   0.        ,\n",
              "          0.        ,   0.        ,   1.        ],\n",
              "       [ 50.        , 103.        ,   0.        ,   0.        ,\n",
              "          1.        ,   0.        ,   0.        ],\n",
              "       [ 75.        , 104.        ,   0.        ,   1.        ,\n",
              "          0.        ,   0.        ,   1.        ],\n",
              "       [ 47.        , 100.        ,   0.        ,   0.        ,\n",
              "          0.        ,   0.        ,   1.        ],\n",
              "       [  5.        ,  98.        ,   0.        ,   0.        ,\n",
              "          0.        ,   1.        ,   1.        ],\n",
              "       [ 18.        , 104.        ,   0.        ,   0.        ,\n",
              "          0.        ,   0.        ,   0.        ],\n",
              "       [ 10.        , 100.        ,   1.        ,   0.        ,\n",
              "          0.        ,   0.        ,   0.        ]])"
            ]
          },
          "metadata": {},
          "execution_count": 19
        }
      ]
    },
    {
      "cell_type": "code",
      "source": [
        "from sklearn.compose import ColumnTransformer"
      ],
      "metadata": {
        "id": "1P2lTWbYqFj3"
      },
      "execution_count": 21,
      "outputs": []
    },
    {
      "cell_type": "code",
      "source": [
        "transformer = ColumnTransformer(transformers=[\n",
        "    ('tnf1',SimpleImputer(),['fever']),\n",
        "    ('tnf2',OrdinalEncoder(categories=[['Mild','Strong']]),['cough']),\n",
        "    ('tnf3',OneHotEncoder(sparse=False,drop='first'),['gender','city'])\n",
        "],remainder='passthrough')"
      ],
      "metadata": {
        "id": "J2u3hfMLs4Gd"
      },
      "execution_count": 22,
      "outputs": []
    },
    {
      "cell_type": "code",
      "source": [
        "transformer.fit_transform(X_train)\n"
      ],
      "metadata": {
        "colab": {
          "base_uri": "https://localhost:8080/"
        },
        "id": "HeUbfjMdukFh",
        "outputId": "1c615649-f539-40d4-810e-cfcd5a6790db"
      },
      "execution_count": 28,
      "outputs": [
        {
          "output_type": "stream",
          "name": "stderr",
          "text": [
            "/usr/local/lib/python3.10/dist-packages/sklearn/preprocessing/_encoders.py:868: FutureWarning: `sparse` was renamed to `sparse_output` in version 1.2 and will be removed in 1.4. `sparse_output` is ignored unless you leave `sparse` to its default value.\n",
            "  warnings.warn(\n"
          ]
        },
        {
          "output_type": "execute_result",
          "data": {
            "text/plain": [
              "array([[ 98.        ,   0.        ,   0.        ,   0.        ,\n",
              "          1.        ,   0.        ,  26.        ],\n",
              "       [ 98.        ,   0.        ,   0.        ,   0.        ,\n",
              "          0.        ,   0.        ,  64.        ],\n",
              "       [101.        ,   0.        ,   0.        ,   0.        ,\n",
              "          0.        ,   0.        ,  20.        ],\n",
              "       [100.89041096,   1.        ,   1.        ,   0.        ,\n",
              "          1.        ,   0.        ,  71.        ],\n",
              "       [102.        ,   0.        ,   0.        ,   0.        ,\n",
              "          0.        ,   0.        ,  69.        ],\n",
              "       [104.        ,   0.        ,   1.        ,   0.        ,\n",
              "          0.        ,   0.        ,  51.        ],\n",
              "       [104.        ,   0.        ,   0.        ,   0.        ,\n",
              "          1.        ,   0.        ,  17.        ],\n",
              "       [104.        ,   0.        ,   0.        ,   0.        ,\n",
              "          0.        ,   0.        ,  12.        ],\n",
              "       [ 99.        ,   0.        ,   1.        ,   1.        ,\n",
              "          0.        ,   0.        ,  65.        ],\n",
              "       [101.        ,   0.        ,   0.        ,   0.        ,\n",
              "          0.        ,   1.        ,  81.        ],\n",
              "       [100.        ,   1.        ,   0.        ,   0.        ,\n",
              "          1.        ,   0.        ,  13.        ],\n",
              "       [ 99.        ,   0.        ,   0.        ,   0.        ,\n",
              "          0.        ,   1.        ,  60.        ],\n",
              "       [100.89041096,   1.        ,   0.        ,   0.        ,\n",
              "          0.        ,   0.        ,  42.        ],\n",
              "       [101.        ,   0.        ,   1.        ,   1.        ,\n",
              "          0.        ,   0.        ,  42.        ],\n",
              "       [101.        ,   1.        ,   1.        ,   0.        ,\n",
              "          0.        ,   0.        ,  14.        ],\n",
              "       [ 99.        ,   0.        ,   1.        ,   0.        ,\n",
              "          0.        ,   0.        ,  72.        ],\n",
              "       [ 99.        ,   0.        ,   0.        ,   0.        ,\n",
              "          0.        ,   1.        ,  14.        ],\n",
              "       [102.        ,   1.        ,   0.        ,   1.        ,\n",
              "          0.        ,   0.        ,  33.        ],\n",
              "       [103.        ,   0.        ,   1.        ,   0.        ,\n",
              "          1.        ,   0.        ,  83.        ],\n",
              "       [104.        ,   0.        ,   1.        ,   0.        ,\n",
              "          0.        ,   0.        ,  25.        ],\n",
              "       [102.        ,   1.        ,   0.        ,   0.        ,\n",
              "          0.        ,   0.        ,  24.        ],\n",
              "       [100.        ,   0.        ,   1.        ,   1.        ,\n",
              "          0.        ,   0.        ,  27.        ],\n",
              "       [100.        ,   0.        ,   0.        ,   0.        ,\n",
              "          1.        ,   0.        ,   5.        ],\n",
              "       [100.        ,   1.        ,   0.        ,   0.        ,\n",
              "          0.        ,   0.        ,  19.        ],\n",
              "       [ 98.        ,   0.        ,   1.        ,   0.        ,\n",
              "          1.        ,   0.        ,  24.        ],\n",
              "       [101.        ,   0.        ,   0.        ,   0.        ,\n",
              "          1.        ,   0.        ,   8.        ],\n",
              "       [102.        ,   0.        ,   1.        ,   0.        ,\n",
              "          0.        ,   0.        ,  64.        ],\n",
              "       [100.        ,   0.        ,   1.        ,   0.        ,\n",
              "          0.        ,   0.        ,  11.        ],\n",
              "       [102.        ,   0.        ,   0.        ,   1.        ,\n",
              "          0.        ,   0.        ,  49.        ],\n",
              "       [ 98.        ,   1.        ,   0.        ,   0.        ,\n",
              "          1.        ,   0.        ,  10.        ],\n",
              "       [ 98.        ,   1.        ,   0.        ,   0.        ,\n",
              "          0.        ,   1.        ,  81.        ],\n",
              "       [102.        ,   0.        ,   1.        ,   0.        ,\n",
              "          0.        ,   1.        ,  74.        ],\n",
              "       [102.        ,   1.        ,   0.        ,   0.        ,\n",
              "          0.        ,   0.        ,  82.        ],\n",
              "       [100.89041096,   0.        ,   0.        ,   0.        ,\n",
              "          0.        ,   0.        ,  84.        ],\n",
              "       [101.        ,   0.        ,   1.        ,   1.        ,\n",
              "          0.        ,   0.        ,  15.        ],\n",
              "       [103.        ,   1.        ,   1.        ,   0.        ,\n",
              "          1.        ,   0.        ,  70.        ],\n",
              "       [ 98.        ,   0.        ,   1.        ,   1.        ,\n",
              "          0.        ,   0.        ,  83.        ],\n",
              "       [103.        ,   0.        ,   0.        ,   0.        ,\n",
              "          1.        ,   0.        ,  48.        ],\n",
              "       [104.        ,   0.        ,   1.        ,   0.        ,\n",
              "          1.        ,   0.        ,  51.        ],\n",
              "       [ 98.        ,   1.        ,   1.        ,   0.        ,\n",
              "          0.        ,   0.        ,  12.        ],\n",
              "       [ 98.        ,   1.        ,   0.        ,   0.        ,\n",
              "          1.        ,   0.        ,  71.        ],\n",
              "       [104.        ,   1.        ,   0.        ,   0.        ,\n",
              "          1.        ,   0.        ,  54.        ],\n",
              "       [100.        ,   0.        ,   1.        ,   0.        ,\n",
              "          1.        ,   0.        ,  27.        ],\n",
              "       [101.        ,   0.        ,   0.        ,   1.        ,\n",
              "          0.        ,   0.        ,  64.        ],\n",
              "       [101.        ,   0.        ,   1.        ,   1.        ,\n",
              "          0.        ,   0.        ,  19.        ],\n",
              "       [101.        ,   0.        ,   0.        ,   0.        ,\n",
              "          0.        ,   1.        ,  19.        ],\n",
              "       [100.        ,   0.        ,   0.        ,   0.        ,\n",
              "          1.        ,   0.        ,  19.        ],\n",
              "       [100.        ,   0.        ,   1.        ,   1.        ,\n",
              "          0.        ,   0.        ,  27.        ],\n",
              "       [103.        ,   0.        ,   0.        ,   0.        ,\n",
              "          0.        ,   0.        ,  16.        ],\n",
              "       [ 98.        ,   0.        ,   0.        ,   1.        ,\n",
              "          0.        ,   0.        ,  80.        ],\n",
              "       [100.89041096,   1.        ,   0.        ,   0.        ,\n",
              "          0.        ,   1.        ,  34.        ],\n",
              "       [104.        ,   0.        ,   1.        ,   0.        ,\n",
              "          0.        ,   1.        ,  42.        ],\n",
              "       [104.        ,   0.        ,   0.        ,   0.        ,\n",
              "          1.        ,   0.        ,   6.        ],\n",
              "       [ 99.        ,   0.        ,   0.        ,   0.        ,\n",
              "          0.        ,   0.        ,  22.        ],\n",
              "       [100.89041096,   0.        ,   0.        ,   1.        ,\n",
              "          0.        ,   0.        ,  75.        ],\n",
              "       [104.        ,   0.        ,   1.        ,   0.        ,\n",
              "          1.        ,   0.        ,  16.        ],\n",
              "       [103.        ,   0.        ,   0.        ,   0.        ,\n",
              "          1.        ,   0.        ,  69.        ],\n",
              "       [101.        ,   0.        ,   0.        ,   0.        ,\n",
              "          0.        ,   0.        ,  38.        ],\n",
              "       [101.        ,   1.        ,   0.        ,   1.        ,\n",
              "          0.        ,   0.        ,  68.        ],\n",
              "       [ 98.        ,   1.        ,   0.        ,   1.        ,\n",
              "          0.        ,   0.        ,  40.        ],\n",
              "       [ 99.        ,   1.        ,   0.        ,   0.        ,\n",
              "          0.        ,   0.        ,  49.        ],\n",
              "       [103.        ,   0.        ,   0.        ,   1.        ,\n",
              "          0.        ,   0.        ,  73.        ],\n",
              "       [100.89041096,   0.        ,   1.        ,   0.        ,\n",
              "          0.        ,   1.        ,  23.        ],\n",
              "       [ 98.        ,   0.        ,   0.        ,   0.        ,\n",
              "          0.        ,   1.        ,  65.        ],\n",
              "       [101.        ,   0.        ,   0.        ,   0.        ,\n",
              "          1.        ,   0.        ,  83.        ],\n",
              "       [100.89041096,   0.        ,   1.        ,   1.        ,\n",
              "          0.        ,   0.        ,  38.        ],\n",
              "       [103.        ,   0.        ,   1.        ,   0.        ,\n",
              "          1.        ,   0.        ,  60.        ],\n",
              "       [ 99.        ,   1.        ,   0.        ,   0.        ,\n",
              "          1.        ,   0.        ,  25.        ],\n",
              "       [101.        ,   1.        ,   0.        ,   1.        ,\n",
              "          0.        ,   0.        ,  34.        ],\n",
              "       [100.        ,   0.        ,   1.        ,   0.        ,\n",
              "          0.        ,   0.        ,  80.        ],\n",
              "       [ 98.        ,   1.        ,   1.        ,   0.        ,\n",
              "          0.        ,   1.        ,  23.        ],\n",
              "       [ 98.        ,   0.        ,   1.        ,   0.        ,\n",
              "          0.        ,   0.        ,  73.        ],\n",
              "       [101.        ,   0.        ,   0.        ,   1.        ,\n",
              "          0.        ,   0.        ,  49.        ],\n",
              "       [104.        ,   1.        ,   0.        ,   0.        ,\n",
              "          0.        ,   0.        ,  56.        ],\n",
              "       [103.        ,   0.        ,   0.        ,   0.        ,\n",
              "          1.        ,   0.        ,  50.        ],\n",
              "       [104.        ,   1.        ,   0.        ,   1.        ,\n",
              "          0.        ,   0.        ,  75.        ],\n",
              "       [100.        ,   1.        ,   0.        ,   0.        ,\n",
              "          0.        ,   0.        ,  47.        ],\n",
              "       [ 98.        ,   1.        ,   0.        ,   0.        ,\n",
              "          0.        ,   1.        ,   5.        ],\n",
              "       [104.        ,   0.        ,   0.        ,   0.        ,\n",
              "          0.        ,   0.        ,  18.        ],\n",
              "       [100.        ,   0.        ,   1.        ,   0.        ,\n",
              "          0.        ,   0.        ,  10.        ]])"
            ]
          },
          "metadata": {},
          "execution_count": 28
        }
      ]
    },
    {
      "cell_type": "code",
      "source": [
        "X_train_new = transformer.fit_transform(X_train).shape\n"
      ],
      "metadata": {
        "colab": {
          "base_uri": "https://localhost:8080/"
        },
        "id": "uWUIT7dFuqBk",
        "outputId": "2a678474-d922-493b-ccc1-d2721d7eb6d1"
      },
      "execution_count": 24,
      "outputs": [
        {
          "output_type": "stream",
          "name": "stderr",
          "text": [
            "/usr/local/lib/python3.10/dist-packages/sklearn/preprocessing/_encoders.py:868: FutureWarning: `sparse` was renamed to `sparse_output` in version 1.2 and will be removed in 1.4. `sparse_output` is ignored unless you leave `sparse` to its default value.\n",
            "  warnings.warn(\n"
          ]
        }
      ]
    },
    {
      "cell_type": "code",
      "source": [
        "X_train_new"
      ],
      "metadata": {
        "colab": {
          "base_uri": "https://localhost:8080/"
        },
        "id": "ntxVPhKHu5gW",
        "outputId": "a95a2761-8a6d-457e-b6f0-da63220d983f"
      },
      "execution_count": 29,
      "outputs": [
        {
          "output_type": "execute_result",
          "data": {
            "text/plain": [
              "(80, 7)"
            ]
          },
          "metadata": {},
          "execution_count": 29
        }
      ]
    }
  ]
}